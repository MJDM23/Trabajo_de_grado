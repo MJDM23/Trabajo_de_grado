{
 "cells": [
  {
   "cell_type": "code",
   "execution_count": 1,
   "id": "executed-pepper",
   "metadata": {},
   "outputs": [],
   "source": [
    "from numpy import *"
   ]
  },
  {
   "cell_type": "code",
   "execution_count": 2,
   "id": "upset-scale",
   "metadata": {},
   "outputs": [
    {
     "name": "stdout",
     "output_type": "stream",
     "text": [
      "6692\n"
     ]
    }
   ],
   "source": [
    "S, T, MH, MS, MHplus, omega1, omega2, omega, frac, sigmaSI1, sigmaSI2, LA2, LAL, LAS1, LAS2, LAS21, LAS= loadtxt(\"ST_2sigmaFiltro.txt\", unpack= True)\n",
    "\n",
    "v= 246.22\n",
    "\n",
    "LA4= (MH**2 - MHplus**2) * (2/v**2)\n",
    "LA3= LAL - LA4\n",
    "LA1= 0.5*(125**2)/(v**2)\n",
    "\n",
    "print(len(S))"
   ]
  },
  {
   "cell_type": "code",
   "execution_count": 3,
   "id": "accepting-magazine",
   "metadata": {},
   "outputs": [],
   "source": [
    "d= []\n",
    "\n",
    "for i in range(len(S)):\n",
    "    Condi= [LA3[i] + LA4[i] + 2*sqrt(LA1*LA2[i]) > 0, LA3[i] + 2*sqrt(LA1*LA2[i]) > 0]\n",
    "    Condi_P= [LA1 < 8*pi, LA2[i] < 8*pi, LA3[i] < 8*pi, LA4[i] < 8*pi]\n",
    "    \n",
    "    if( all(Condi) and all(Condi_P)):\n",
    "        d.append([S[i], T[i], MH[i], MS[i], MHplus[i], omega1[i], omega2[i], omega[i], frac[i], sigmaSI1[i], sigmaSI2[i], LA2[i], LAL[i], LAS1[i], LAS2[i], LAS21[i], LAS[i]]) "
   ]
  },
  {
   "cell_type": "code",
   "execution_count": 4,
   "id": "bearing-debut",
   "metadata": {},
   "outputs": [
    {
     "name": "stdout",
     "output_type": "stream",
     "text": [
      "5629\n"
     ]
    }
   ],
   "source": [
    "print(len(d))\n",
    "\n",
    "datos = asarray(d)\n",
    "savetxt('Datos_sigma2_condi_filtrados.txt', datos)"
   ]
  },
  {
   "cell_type": "code",
   "execution_count": null,
   "id": "enclosed-latest",
   "metadata": {},
   "outputs": [],
   "source": []
  }
 ],
 "metadata": {
  "kernelspec": {
   "display_name": "Python 3",
   "language": "python",
   "name": "python3"
  },
  "language_info": {
   "codemirror_mode": {
    "name": "ipython",
    "version": 3
   },
   "file_extension": ".py",
   "mimetype": "text/x-python",
   "name": "python",
   "nbconvert_exporter": "python",
   "pygments_lexer": "ipython3",
   "version": "3.6.9"
  }
 },
 "nbformat": 4,
 "nbformat_minor": 5
}
