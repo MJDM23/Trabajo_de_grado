{
 "cells": [
  {
   "cell_type": "code",
   "execution_count": 1,
   "id": "colored-diamond",
   "metadata": {},
   "outputs": [],
   "source": [
    "from numpy import *"
   ]
  },
  {
   "cell_type": "code",
   "execution_count": 2,
   "id": "organizational-castle",
   "metadata": {},
   "outputs": [
    {
     "name": "stdout",
     "output_type": "stream",
     "text": [
      "6999\n"
     ]
    }
   ],
   "source": [
    "MH, MS, MHplus, omega1, omega2, omega, frac, sigmaSI1, sigmaSI2, LA2, LAL, LAS1, LAS2, LAS21, LAS= loadtxt(\"h>s.txt\", unpack= True)\n",
    "print(len(MH))"
   ]
  },
  {
   "cell_type": "code",
   "execution_count": 5,
   "id": "pointed-motel",
   "metadata": {},
   "outputs": [],
   "source": [
    "X1= MH/MHplus\n",
    "sW2= 0.223 \n",
    "MZ= 91.187 \n",
    "MW= 80.401\n",
    "\n",
    "def S(x1):\n",
    "    return 1/(6 * pi) * log(x1)\n",
    "\n",
    "def T(Mhplus, Mh):\n",
    "    return 1/(16 * pi * MW**2 * sW2) * ( (Mh**4 - Mhplus**4 + 2 * Mh**2 * Mhplus**2 * log(Mhplus**2/Mh**2) )/(Mh**2 - Mhplus**2) )"
   ]
  },
  {
   "cell_type": "code",
   "execution_count": 6,
   "id": "infectious-beaver",
   "metadata": {},
   "outputs": [],
   "source": [
    "ST= []\n",
    "for i in range(len(MH)):\n",
    "    s= S(X1[i])\n",
    "    t= T(MHplus[i], MH[i])\n",
    "    ST.append([s, t])"
   ]
  },
  {
   "cell_type": "code",
   "execution_count": 7,
   "id": "major-innocent",
   "metadata": {},
   "outputs": [],
   "source": [
    "d = asarray(ST)\n",
    "savetxt('STFiltro.txt', d)"
   ]
  },
  {
   "cell_type": "code",
   "execution_count": null,
   "id": "weighted-madison",
   "metadata": {},
   "outputs": [],
   "source": []
  }
 ],
 "metadata": {
  "kernelspec": {
   "display_name": "Python 3",
   "language": "python",
   "name": "python3"
  },
  "language_info": {
   "codemirror_mode": {
    "name": "ipython",
    "version": 3
   },
   "file_extension": ".py",
   "mimetype": "text/x-python",
   "name": "python",
   "nbconvert_exporter": "python",
   "pygments_lexer": "ipython3",
   "version": "3.6.9"
  }
 },
 "nbformat": 4,
 "nbformat_minor": 5
}
