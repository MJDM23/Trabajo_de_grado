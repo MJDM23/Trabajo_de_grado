{
 "cells": [
  {
   "cell_type": "code",
   "execution_count": 1,
   "id": "educational-cambridge",
   "metadata": {},
   "outputs": [],
   "source": [
    "from numpy import *"
   ]
  },
  {
   "cell_type": "code",
   "execution_count": 2,
   "id": "referenced-placement",
   "metadata": {},
   "outputs": [],
   "source": [
    "MH, MS, MHplus, omega1, omega2, omega, frac, sigmaSI1, sigmaSI2, LA2, LAL, LAS1, LAS2, LAS21, LAS= loadtxt(\"h>s.txt\", unpack= True)\n"
   ]
  },
  {
   "cell_type": "code",
   "execution_count": 3,
   "id": "israeli-chester",
   "metadata": {},
   "outputs": [
    {
     "name": "stdout",
     "output_type": "stream",
     "text": [
      "[5.87248979e-02 2.56474662e-06 2.25140718e-05 ... 1.83937510e-05\n",
      " 3.09734776e-03 6.69097269e-04]\n"
     ]
    }
   ],
   "source": [
    "dS, dT= loadtxt(\"STFiltro.txt\", unpack= True)\n",
    "print(dT)"
   ]
  },
  {
   "cell_type": "code",
   "execution_count": 4,
   "id": "informative-arkansas",
   "metadata": {},
   "outputs": [],
   "source": [
    "def Fun(SS, TT):\n",
    "    return 4.37421 + 718.19 * SS**2 + SS * (81.8736 - 1680.56 * TT) - 136.608 * TT + 1187.21 * TT**2"
   ]
  },
  {
   "cell_type": "code",
   "execution_count": 5,
   "id": "stuffed-commissioner",
   "metadata": {},
   "outputs": [
    {
     "name": "stdout",
     "output_type": "stream",
     "text": [
      "12.931107421656103 0.5400591938447277\n"
     ]
    }
   ],
   "source": [
    "f= Fun(dS, dT)\n",
    "print(max(f), min(f))"
   ]
  },
  {
   "cell_type": "code",
   "execution_count": 6,
   "id": "independent-verse",
   "metadata": {},
   "outputs": [],
   "source": [
    "s1=[]\n",
    "s2=[]\n",
    "s3=[]\n",
    "\n",
    "for i in range(len(dS)):\n",
    "    if (f[i] < 2.3):\n",
    "        s1.append([dS[i],dT[i], MH[i], MS[i], MHplus[i], omega1[i], omega2[i], omega[i], frac[i], sigmaSI1[i], sigmaSI2[i], LA2[i], LAL[i], LAS1[i], LAS2[i], LAS21[i], LAS[i]])\n",
    "\n",
    "for i in range(len(dS)):\n",
    "    if (f[i] < 6.18):\n",
    "        s2.append([dS[i],dT[i], MH[i], MS[i], MHplus[i], omega1[i], omega2[i], omega[i], frac[i], sigmaSI1[i], sigmaSI2[i], LA2[i], LAL[i], LAS1[i], LAS2[i], LAS21[i], LAS[i]])\n",
    "        \n",
    "for i in range(len(dS)):\n",
    "    if (f[i] < 11.8):\n",
    "        s3.append([dS[i],dT[i], MH[i], MS[i], MHplus[i], omega1[i], omega2[i], omega[i], frac[i], sigmaSI1[i], sigmaSI2[i], LA2[i], LAL[i], LAS1[i], LAS2[i], LAS21[i], LAS[i]])"
   ]
  },
  {
   "cell_type": "code",
   "execution_count": 7,
   "id": "asian-credit",
   "metadata": {},
   "outputs": [
    {
     "name": "stdout",
     "output_type": "stream",
     "text": [
      "6692\n"
     ]
    }
   ],
   "source": [
    "print(len(s2))"
   ]
  },
  {
   "cell_type": "code",
   "execution_count": 8,
   "id": "composed-surfing",
   "metadata": {},
   "outputs": [],
   "source": [
    "sig1 = asarray(s1)\n",
    "savetxt('ST_1sigmaFiltro.txt', sig1)\n",
    "\n",
    "sig2 = asarray(s2)\n",
    "savetxt('ST_2sigmaFiltro.txt', sig2)\n",
    "\n",
    "sig3 = asarray(s3)\n",
    "savetxt('ST_3sigmaFiltro.txt', sig3)"
   ]
  },
  {
   "cell_type": "code",
   "execution_count": null,
   "id": "faced-sound",
   "metadata": {},
   "outputs": [],
   "source": []
  }
 ],
 "metadata": {
  "kernelspec": {
   "display_name": "Python 3",
   "language": "python",
   "name": "python3"
  },
  "language_info": {
   "codemirror_mode": {
    "name": "ipython",
    "version": 3
   },
   "file_extension": ".py",
   "mimetype": "text/x-python",
   "name": "python",
   "nbconvert_exporter": "python",
   "pygments_lexer": "ipython3",
   "version": "3.6.9"
  }
 },
 "nbformat": 4,
 "nbformat_minor": 5
}
